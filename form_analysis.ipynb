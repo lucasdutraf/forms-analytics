{
 "cells": [
  {
   "cell_type": "code",
   "execution_count": 1,
   "metadata": {
    "scrolled": true
   },
   "outputs": [],
   "source": [
    "import pandas as pd\n",
    "from wordcloud import WordCloud, STOPWORDS, ImageColorGenerator"
   ]
  },
  {
   "cell_type": "code",
   "execution_count": 3,
   "metadata": {},
   "outputs": [],
   "source": [
    "form_data = pd.read_csv('data.csv')"
   ]
  },
  {
   "cell_type": "code",
   "execution_count": 4,
   "metadata": {},
   "outputs": [
    {
     "data": {
      "text/html": [
       "<div>\n",
       "<style scoped>\n",
       "    .dataframe tbody tr th:only-of-type {\n",
       "        vertical-align: middle;\n",
       "    }\n",
       "\n",
       "    .dataframe tbody tr th {\n",
       "        vertical-align: top;\n",
       "    }\n",
       "\n",
       "    .dataframe thead th {\n",
       "        text-align: right;\n",
       "    }\n",
       "</style>\n",
       "<table border=\"1\" class=\"dataframe\">\n",
       "  <thead>\n",
       "    <tr style=\"text-align: right;\">\n",
       "      <th></th>\n",
       "      <th>Carimbo de data/hora</th>\n",
       "      <th>Qual sua idade?</th>\n",
       "      <th>Você tem o costume de emprestar objetos para outras pessoas? (Familiares, vizinhos, colegas...)</th>\n",
       "      <th>O que te impede de emprestar seus objetos para outras pessoas?</th>\n",
       "      <th>O que você não emprestaria?</th>\n",
       "      <th>O que você emprestaria?</th>\n",
       "      <th>Você utilizaria uma aplicação que, baseado em diretrizes e regras de punição e bonificação, te possibilita emprestar e pegar emprestado objetos com pessoas da sua mesma cidade?</th>\n",
       "      <th>Quais motivos te levam a usar uma aplicação como essa?</th>\n",
       "      <th>Descreva o porquê dessa opção.</th>\n",
       "    </tr>\n",
       "  </thead>\n",
       "  <tbody>\n",
       "    <tr>\n",
       "      <th>0</th>\n",
       "      <td>18/02/2021 18:46:47</td>\n",
       "      <td>De 18 à 25 anos</td>\n",
       "      <td>Não</td>\n",
       "      <td>Receio de receber de volta danificado, Falta d...</td>\n",
       "      <td>Artigos de uso pessoal (Roupas e afins)</td>\n",
       "      <td>Eletroeletrônicos (Batedeira, ventiladores, et...</td>\n",
       "      <td>Sim</td>\n",
       "      <td>Possibilidade de emprestar objetos que raramen...</td>\n",
       "      <td>NaN</td>\n",
       "    </tr>\n",
       "    <tr>\n",
       "      <th>1</th>\n",
       "      <td>18/02/2021 18:54:25</td>\n",
       "      <td>De 18 à 25 anos</td>\n",
       "      <td>Não</td>\n",
       "      <td>Receio de receber de volta danificado, Receio ...</td>\n",
       "      <td>Eletroeletrônicos (Batedeira, ventiladores, et...</td>\n",
       "      <td>Artigos de uso pessoal (Roupas, copos, etc...)...</td>\n",
       "      <td>Não</td>\n",
       "      <td>NaN</td>\n",
       "      <td>Falta de confiança nas pessoas do app</td>\n",
       "    </tr>\n",
       "    <tr>\n",
       "      <th>2</th>\n",
       "      <td>18/02/2021 18:54:31</td>\n",
       "      <td>De 18 à 25 anos</td>\n",
       "      <td>Não</td>\n",
       "      <td>Falta de oportunidade</td>\n",
       "      <td>Artigos de uso pessoal (Roupas e afins), Eletr...</td>\n",
       "      <td>Jogos de tabuleiro, Ferramentas (Chave de boca...</td>\n",
       "      <td>Não</td>\n",
       "      <td>NaN</td>\n",
       "      <td>Porque não é algo que ia fazer uma grande dife...</td>\n",
       "    </tr>\n",
       "    <tr>\n",
       "      <th>3</th>\n",
       "      <td>18/02/2021 18:56:49</td>\n",
       "      <td>De 18 à 25 anos</td>\n",
       "      <td>Sim</td>\n",
       "      <td>Receio de receber de volta danificado</td>\n",
       "      <td>Automóvel</td>\n",
       "      <td>Artigos de uso pessoal (Roupas, copos, etc...)...</td>\n",
       "      <td>Sim</td>\n",
       "      <td>Possibilidade de emprestar objetos que raramen...</td>\n",
       "      <td>NaN</td>\n",
       "    </tr>\n",
       "    <tr>\n",
       "      <th>4</th>\n",
       "      <td>18/02/2021 19:04:32</td>\n",
       "      <td>De 18 à 25 anos</td>\n",
       "      <td>Sim</td>\n",
       "      <td>Não gosto de compartilhar meus pertences</td>\n",
       "      <td>Eletroeletrônicos (Batedeira, ventiladores, et...</td>\n",
       "      <td>Artigos de uso pessoal (Roupas, copos, etc...)...</td>\n",
       "      <td>Não</td>\n",
       "      <td>NaN</td>\n",
       "      <td>Pelo fato de não gostar de emprestar, e pegar ...</td>\n",
       "    </tr>\n",
       "  </tbody>\n",
       "</table>\n",
       "</div>"
      ],
      "text/plain": [
       "  Carimbo de data/hora  Qual sua idade?  \\\n",
       "0  18/02/2021 18:46:47  De 18 à 25 anos   \n",
       "1  18/02/2021 18:54:25  De 18 à 25 anos   \n",
       "2  18/02/2021 18:54:31  De 18 à 25 anos   \n",
       "3  18/02/2021 18:56:49  De 18 à 25 anos   \n",
       "4  18/02/2021 19:04:32  De 18 à 25 anos   \n",
       "\n",
       "  Você tem o costume de emprestar objetos para outras pessoas? (Familiares, vizinhos, colegas...)  \\\n",
       "0                                                Não                                                \n",
       "1                                                Não                                                \n",
       "2                                                Não                                                \n",
       "3                                                Sim                                                \n",
       "4                                                Sim                                                \n",
       "\n",
       "  O que te impede de emprestar seus objetos para outras pessoas?  \\\n",
       "0  Receio de receber de volta danificado, Falta d...               \n",
       "1  Receio de receber de volta danificado, Receio ...               \n",
       "2                              Falta de oportunidade               \n",
       "3              Receio de receber de volta danificado               \n",
       "4           Não gosto de compartilhar meus pertences               \n",
       "\n",
       "                         O que você não emprestaria?  \\\n",
       "0            Artigos de uso pessoal (Roupas e afins)   \n",
       "1  Eletroeletrônicos (Batedeira, ventiladores, et...   \n",
       "2  Artigos de uso pessoal (Roupas e afins), Eletr...   \n",
       "3                                          Automóvel   \n",
       "4  Eletroeletrônicos (Batedeira, ventiladores, et...   \n",
       "\n",
       "                             O que você emprestaria?  \\\n",
       "0  Eletroeletrônicos (Batedeira, ventiladores, et...   \n",
       "1  Artigos de uso pessoal (Roupas, copos, etc...)...   \n",
       "2  Jogos de tabuleiro, Ferramentas (Chave de boca...   \n",
       "3  Artigos de uso pessoal (Roupas, copos, etc...)...   \n",
       "4  Artigos de uso pessoal (Roupas, copos, etc...)...   \n",
       "\n",
       "  Você utilizaria uma aplicação que, baseado em diretrizes e regras de punição e bonificação, te possibilita emprestar e pegar emprestado objetos com pessoas da sua mesma cidade?  \\\n",
       "0                                                Sim                                                                                                                                 \n",
       "1                                                Não                                                                                                                                 \n",
       "2                                                Não                                                                                                                                 \n",
       "3                                                Sim                                                                                                                                 \n",
       "4                                                Não                                                                                                                                 \n",
       "\n",
       "  Quais motivos te levam a usar uma aplicação como essa?  \\\n",
       "0  Possibilidade de emprestar objetos que raramen...       \n",
       "1                                                NaN       \n",
       "2                                                NaN       \n",
       "3  Possibilidade de emprestar objetos que raramen...       \n",
       "4                                                NaN       \n",
       "\n",
       "                      Descreva o porquê dessa opção.  \n",
       "0                                                NaN  \n",
       "1              Falta de confiança nas pessoas do app  \n",
       "2  Porque não é algo que ia fazer uma grande dife...  \n",
       "3                                                NaN  \n",
       "4  Pelo fato de não gostar de emprestar, e pegar ...  "
      ]
     },
     "execution_count": 4,
     "metadata": {},
     "output_type": "execute_result"
    }
   ],
   "source": [
    "form_data.head()"
   ]
  },
  {
   "cell_type": "code",
   "execution_count": 19,
   "metadata": {},
   "outputs": [],
   "source": [
    "def generate_wordcloud(words, path):\n",
    "    stopwords = set(STOPWORDS)\n",
    "    stopwords.update([\"da\", \"meu\", \"em\", \"você\", \"de\", \"ao\", \"os\"])\n",
    "    wordcloud = WordCloud(stopwords=stopwords,\n",
    "                      background_color='white', width=1600,                            \n",
    "                      height=800).generate(words)\n",
    "    wordcloud.to_file(path)"
   ]
  },
  {
   "cell_type": "code",
   "execution_count": 7,
   "metadata": {},
   "outputs": [],
   "source": [
    "used = form_data[form_data['Você tem o costume de emprestar objetos para outras pessoas? (Familiares, vizinhos, colegas...)'] == 'Sim']\n",
    "not_used = form_data[form_data['Você tem o costume de emprestar objetos para outras pessoas? (Familiares, vizinhos, colegas...)'] == 'Não']"
   ]
  },
  {
   "cell_type": "code",
   "execution_count": 8,
   "metadata": {},
   "outputs": [],
   "source": [
    "_general_emprestaria =  form_data['O que você emprestaria?']\n",
    "_general_nao = form_data['O que você não emprestaria?']"
   ]
  },
  {
   "cell_type": "code",
   "execution_count": 9,
   "metadata": {},
   "outputs": [],
   "source": [
    "all_emprestaria = \" \".join(s for s in _general_emprestaria)\n",
    "all_nao = \" \".join(s for s in _general_nao)"
   ]
  },
  {
   "cell_type": "code",
   "execution_count": 20,
   "metadata": {},
   "outputs": [],
   "source": [
    "_used_emprestaria = used['O que você emprestaria?']\n",
    "_used_nao = used['O que você não emprestaria?']"
   ]
  },
  {
   "cell_type": "code",
   "execution_count": 21,
   "metadata": {},
   "outputs": [],
   "source": [
    "used_emprestaria = \" \".join(s for s in _used_emprestaria)\n",
    "used_nao = \" \".join(s for s in _used_nao)"
   ]
  },
  {
   "cell_type": "code",
   "execution_count": 23,
   "metadata": {},
   "outputs": [],
   "source": [
    "generate_wordcloud(used_emprestaria, 'used_emprestaria.png')\n",
    "generate_wordcloud(used_nao, 'used_nao_emprestaria.png')"
   ]
  },
  {
   "cell_type": "code",
   "execution_count": 24,
   "metadata": {},
   "outputs": [],
   "source": [
    "_notused_emprestaria = not_used['O que você emprestaria?']\n",
    "_notused_nao = not_used['O que você não emprestaria?']"
   ]
  },
  {
   "cell_type": "code",
   "execution_count": 25,
   "metadata": {},
   "outputs": [],
   "source": [
    "notused_emprestaria = \" \".join(s for s in _notused_emprestaria)\n",
    "notused_nao = \" \".join(s for s in _notused_nao)"
   ]
  },
  {
   "cell_type": "code",
   "execution_count": 26,
   "metadata": {},
   "outputs": [],
   "source": [
    "generate_wordcloud(notused_emprestaria, 'not_used_emprestaria.png')\n",
    "generate_wordcloud(notused_nao, 'not_used_nao_emprestaria.png')"
   ]
  }
 ],
 "metadata": {
  "kernelspec": {
   "display_name": "Python 3",
   "language": "python",
   "name": "python3"
  },
  "language_info": {
   "codemirror_mode": {
    "name": "ipython",
    "version": 3
   },
   "file_extension": ".py",
   "mimetype": "text/x-python",
   "name": "python",
   "nbconvert_exporter": "python",
   "pygments_lexer": "ipython3",
   "version": "3.8.5"
  }
 },
 "nbformat": 4,
 "nbformat_minor": 4
}
